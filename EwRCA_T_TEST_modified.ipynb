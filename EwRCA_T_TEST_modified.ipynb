{
 "cells": [
  {
   "cell_type": "code",
   "execution_count": null,
   "metadata": {},
   "outputs": [],
   "source": [
    "import pandas as pd\n",
    "import seaborn as sns\n",
    "import numpy as np\n",
    "import pickle\n",
    "from scipy.stats import ttest_rel\n",
    "from scipy.stats import ttest_ind\n",
    "from sklearn.preprocessing import PolynomialFeatures\n",
    "import glob\n",
    "from datetime import datetime\n",
    "import time\n",
    "pd.set_option('display.max_columns', 2000)\n",
    "pd.set_option('display.max_rows', 100)\n",
    "target = '***target***'\n",
    "target_label = '***Class***'\n",
    "time_col = '***target_time_col***'\n",
    "target_status = '***target_nio_status***'"
   ]
  },
  {
   "cell_type": "code",
   "execution_count": null,
   "metadata": {},
   "outputs": [],
   "source": [
    "def display_duplicated(df):\n",
    "    list_col = list(df.columns)\n",
    "    for item in list_col:\n",
    "        if list_col.count(item) > 1: \n",
    "            print(item)"
   ]
  },
  {
   "cell_type": "code",
   "execution_count": null,
   "metadata": {},
   "outputs": [],
   "source": [
    "df = pd.read_parquet(r'path')\n",
    "df = df.sort_values(by='***target_time_col***',ascending=True)\n",
    "df = df[-4000:]\n",
    "df = df.reset_index(drop=True) "
   ]
  },
  {
   "cell_type": "code",
   "execution_count": null,
   "metadata": {},
   "outputs": [],
   "source": [
    "target_df = df[target]"
   ]
  },
  {
   "cell_type": "code",
   "execution_count": null,
   "metadata": {},
   "outputs": [],
   "source": [
    "df = df.drop(columns=target,axis = 1 )"
   ]
  },
  {
   "cell_type": "code",
   "execution_count": null,
   "metadata": {},
   "outputs": [],
   "source": [
    "drop_cols = df.columns[(df == 0).sum() >= 0.01*df.shape[1]]\n",
    "df.drop(drop_cols, axis = 1, inplace = True) "
   ]
  },
  {
   "cell_type": "code",
   "execution_count": null,
   "metadata": {},
   "outputs": [],
   "source": [
    "df = pd.concat([df, target_df], axis=1, sort=False)"
   ]
  },
  {
   "cell_type": "code",
   "execution_count": null,
   "metadata": {},
   "outputs": [],
   "source": [
    "df_numbers = df.select_dtypes(exclude=np.datetime64)\n",
    "df_datetime = df.select_dtypes(include=np.datetime64)"
   ]
  },
  {
   "cell_type": "code",
   "execution_count": null,
   "metadata": {},
   "outputs": [],
   "source": [
    "import clean_and_explore as cae\n",
    "dropped_columns = [\"**\", \"**\", \"**\",\"**\",\"**\",\"**\",\"**\"]\n",
    "df_numbers = cae.drop_cols_including_with_text(df_numbers, dropped_columns)"
   ]
  },
  {
   "cell_type": "code",
   "execution_count": null,
   "metadata": {},
   "outputs": [],
   "source": [
    "df_*** = df_numbers[target]"
   ]
  },
  {
   "cell_type": "code",
   "execution_count": null,
   "metadata": {},
   "outputs": [],
   "source": [
    "df_numbers_in = df_numbers\n",
    "df_numbers_in = df_numbers_in.drop(columns=target,axis=1)\n",
    "\n",
    "poly = PolynomialFeatures(degree=2,interaction_only=True,include_bias=False).fit(df_numbers)\n",
    "df_numbers_array = poly.transform(df_numbers)\n",
    "#print(\"Get Polynomial Features: \",poly.get_feature_names(df_numbers.columns))"
   ]
  },
  {
   "cell_type": "code",
   "execution_count": null,
   "metadata": {},
   "outputs": [],
   "source": [
    "target_feature_names = ['x'.join(['{}^{}'.format(pair[0],pair[1]) for pair in tuple if pair[1]!=0]) for tuple in [zip(df_numbers_in.columns,p) for p in poly.powers_]]\n",
    "df_numbers_out = pd.DataFrame(df_numbers_array, columns = target_feature_names)"
   ]
  },
  {
   "cell_type": "code",
   "execution_count": null,
   "metadata": {},
   "outputs": [],
   "source": [
    "df_numbers_out = df_numbers_out.loc[:,~df_numbers_out.columns.duplicated()]"
   ]
  },
  {
   "cell_type": "code",
   "execution_count": null,
   "metadata": {},
   "outputs": [],
   "source": [
    "all_cols = list(df_numbers_out.columns)\n",
    "one_cols = list(df_numbers_in.columns)"
   ]
  },
  {
   "cell_type": "code",
   "execution_count": null,
   "metadata": {},
   "outputs": [],
   "source": [
    "red_list = []\n",
    "one_hat_list = []\n",
    "for y in all_cols:\n",
    "    bMatch = False\n",
    "    for x in one_cols:\n",
    "        if x+\"^1\" == y:\n",
    "            bMatch = True\n",
    "            one_hat_list.append(y)\n",
    "            break\n",
    "    if not bMatch:\n",
    "        red_list.append(y)"
   ]
  },
  {
   "cell_type": "code",
   "execution_count": null,
   "metadata": {},
   "outputs": [],
   "source": [
    "df_datetime = df_datetime.reset_index(drop=True)"
   ]
  },
  {
   "cell_type": "code",
   "execution_count": null,
   "metadata": {},
   "outputs": [],
   "source": [
    "df_**=df_**.rename('***^1')\n",
    "df_** = df_**.to_frame() "
   ]
  },
  {
   "cell_type": "code",
   "execution_count": null,
   "metadata": {},
   "outputs": [],
   "source": [
    "df_numbers_out = pd.concat([df_numbers_out,df_**],axis=1,sort=False)"
   ]
  },
  {
   "cell_type": "code",
   "execution_count": null,
   "metadata": {},
   "outputs": [],
   "source": [
    "df = pd.concat([df_numbers_out, df_datetime], axis=1, sort=False)"
   ]
  },
  {
   "cell_type": "code",
   "execution_count": null,
   "metadata": {},
   "outputs": [],
   "source": [
    "df = df.drop(df.columns[0], axis=1)"
   ]
  },
  {
   "cell_type": "code",
   "execution_count": null,
   "metadata": {},
   "outputs": [],
   "source": [
    "zeros = (df == 0).astype(int).sum(axis=0)"
   ]
  },
  {
   "cell_type": "code",
   "execution_count": null,
   "metadata": {},
   "outputs": [],
   "source": [
    "target = 'st40_resultallpoints_emiflow_3_1^1'\n",
    "target_label = 'Class_3_1'\n",
    "time_col = 'st40_result_date_local^1'\n",
    "target_status = 'NIO_Bit_Result'"
   ]
  },
  {
   "cell_type": "code",
   "execution_count": null,
   "metadata": {},
   "outputs": [],
   "source": [
    "df.loc[(** <= df[target]) & (df[target] <= **),target_status] = 1\n",
    "df.loc[(** <= df[target]) & (df[target] < **),target_status] = 2\n",
    "df.loc[(** < df[target]) & (df[target] <= **),target_status] = 3\n",
    "df.loc[df[target] < **, target_status] = 4\n",
    "df.loc[df[target] > **, target_status] = 5"
   ]
  },
  {
   "cell_type": "code",
   "execution_count": null,
   "metadata": {},
   "outputs": [],
   "source": [
    "df.loc[(** <= df[target]) & (df[target] <= **),target_label] = 'IO'\n",
    "df.loc[(** <= df[target]) & (df[target] <= **),target_label] = 'IO_LOWER'\n",
    "df.loc[(** <= df[target]) & (df[target] <= **),target_label] = 'IO_HIGHER'\n",
    "df.loc[df[target] < **, target_label] = 'NIO_LOWER'\n",
    "df.loc[df[target] > **, target_label] = 'NIO_UPPER'"
   ]
  },
  {
   "cell_type": "code",
   "execution_count": null,
   "metadata": {},
   "outputs": [],
   "source": [
    "df_class_io = df.loc[df[target_label] == 'IO']\n",
    "df_class_io_lower = df.loc[df[target_label] == 'IO_LOWER']\n",
    "df_class_io_higher = df.loc[df[target_label] == 'IO_HIGHER']\n",
    "df_class_nio_lower = df.loc[df[target_label] == 'NIO_LOWER']\n",
    "df_class_nio_upper = df.loc[df[target_label] == 'NIO_UPPER']"
   ]
  },
  {
   "cell_type": "code",
   "execution_count": null,
   "metadata": {},
   "outputs": [],
   "source": [
    "df_class_io = df_class_io.reset_index(drop=True)\n",
    "df_class_io_lower = df_class_io_lower.reset_index(drop=True)\n",
    "df_class_io_higher = df_class_io_higher.reset_index(drop=True)\n",
    "df_class_nio_lower = df_class_nio_lower.reset_index(drop=True)\n",
    "df_class_nio_upper = df_class_nio_upper.reset_index(drop=True)"
   ]
  },
  {
   "cell_type": "code",
   "execution_count": null,
   "metadata": {},
   "outputs": [],
   "source": [
    "df_class_io = df_class_io.select_dtypes(exclude=[np.datetime64,object])\n",
    "df_class_io_lower = df_class_io_lower.select_dtypes(exclude=[np.datetime64,object])\n",
    "df_class_io_higher = df_class_io_higher.select_dtypes(exclude=[np.datetime64,object])\n",
    "df_class_nio_lower = df_class_nio_lower.select_dtypes(exclude=[np.datetime64,object])\n",
    "df_class_nio_upper = df_class_nio_upper.select_dtypes(exclude=[np.datetime64,object])"
   ]
  },
  {
   "cell_type": "code",
   "execution_count": null,
   "metadata": {},
   "outputs": [],
   "source": [
    "class1s = [df_class_io, df_class_io, df_class_io, df_class_io, df_class_io_lower, df_class_io_higher]\n",
    "class2s = [df_class_io_lower, df_class_io_higher, df_class_nio_lower, df_class_nio_upper, df_class_nio_lower, df_class_nio_upper]\n",
    "class1_labels = [ \"df_class_io\", \"df_class_io\", \"df_class_io\", \"df_class_io\",\"df_class_io_lower\",\"df_class_io_higher\"]\n",
    "class2_labels = [ \"df_class_io_lower\", \"df_class_io_higher\", \"df_class_nio_lower\", \"df_class_nio_upper\",\"df_class_nio_lower\",\"df_class_nio_upper\"]"
   ]
  },
  {
   "cell_type": "code",
   "execution_count": null,
   "metadata": {},
   "outputs": [],
   "source": [
    "def reset_ttest_df_last():\n",
    "    # Creating an empty Dataframe for P values with column names only\n",
    "    ttest_df = pd.DataFrame(columns=['Feature','P_Value'])\n",
    "    df_last = pd.DataFrame(columns=['Feature','P_Value'])\n",
    "    return ttest_df, df_last"
   ]
  },
  {
   "cell_type": "code",
   "execution_count": null,
   "metadata": {},
   "outputs": [],
   "source": [
    "def set_selected_class_and_label(index):\n",
    "    class1 = class1s[index]; class2 = class2s[index];\n",
    "    class1_label = class1_labels[index]; class2_label = class2_labels[index];\n",
    "    selected_class1 = class1\n",
    "    selected_class2 = class2\n",
    "    selected_class1_label = class1_label\n",
    "    selected_class2_label = class2_label\n",
    "    return selected_class1, selected_class2, selected_class1_label, selected_class2_label"
   ]
  },
  {
   "cell_type": "code",
   "execution_count": null,
   "metadata": {},
   "outputs": [],
   "source": [
    "frames = [df_class_io, df_class_io_lower, df_class_io_higher, df_class_nio_lower, df_class_nio_upper]\n",
    "merge_gauss_plot = pd.concat(frames)\n",
    "merge_gauss_plot = merge_gauss_plot.reset_index(drop=True) \n",
    "merge_gauss_plot_label = \"Gauss_ALL\""
   ]
  },
  {
   "cell_type": "code",
   "execution_count": null,
   "metadata": {},
   "outputs": [],
   "source": [
    "def calculate_ttest():\n",
    "    global selected_class1, selected_class2, ttest_df, index\n",
    "    for column_index in range(len(selected_class1.columns)-1):\n",
    "        val1 = selected_class1.iloc[:,[column_index]]\n",
    "        val2 = selected_class2.iloc[:,[column_index]]\n",
    "        stat, p = ttest_ind(val1, val2)\n",
    "        alpha = 0.05\n",
    "\n",
    "        if p > alpha and p!=0:\n",
    "            a = 5\n",
    "        if (0 < p < alpha  ):\n",
    "            index = index+1\n",
    "            ttest_df.at[column_index, 'P_Value'] = p\n",
    "            ttest_df.at[column_index, 'Feature'] = selected_class1.columns[column_index]\n",
    "            \n",
    "    ttest_df = ttest_df.sort_values(by=['P_Value'],ascending=True)\n",
    "    frames = [df_last,ttest_df]\n",
    "    ttest_df = pd.concat(frames)\n",
    "    ttest_df = ttest_df.sort_values(by=['P_Value'],ascending=True)\n",
    "    ttest_df = ttest_df.reset_index(drop=True)\n",
    "    print(ttest_df)\n",
    "    print(\"Selected Classes:  \"+selected_class1_label+\"  and  \"+selected_class2_label)\n",
    "    print(\"Part Quantity for Class:  \"+ selected_class1_label+\" : \"+ str(len(selected_class1)))\n",
    "    print(\"Part Quantity for Class:  \"+ selected_class2_label+\" : \"+ str(len(selected_class2)))\n",
    "    return ttest_df"
   ]
  },
  {
   "cell_type": "code",
   "execution_count": null,
   "metadata": {},
   "outputs": [],
   "source": [
    "def generate_col_count_dict(colnames: list)->dict:\n",
    "    col_count = {}\n",
    "    for col in colnames:\n",
    "        cols = col.split(\"^1x\")\n",
    "        index = 1 if len(cols) > 1 else 0\n",
    "        cols[index] = cols[index].replace(\"^1\", \"\")\n",
    "\n",
    "        for sep_col in cols:\n",
    "            if sep_col in col_count.keys():\n",
    "                col_count[sep_col] += 1\n",
    "            else:\n",
    "                col_count[sep_col] = 1\n",
    "    return col_count"
   ]
  },
  {
   "cell_type": "code",
   "execution_count": null,
   "metadata": {},
   "outputs": [],
   "source": [
    "def drop_duplicate_cols(df:pd.DataFrame) ->  pd.DataFrame:\n",
    "    \n",
    "    target = \"Feature\"\n",
    "    colnames = df[target].to_list()\n",
    "    col_count = generate_col_count_dict(colnames)\n",
    "    \"\"\"get duplicate columns whose occurance number > 1\"\"\"\n",
    "    dup_cols = [key.split(\"[\")[0] for key, val in col_count.items() if val > 1]\n",
    "\n",
    "    df_org = df.copy()\n",
    "\n",
    "    index_list = []\n",
    "    max_index = []\n",
    "    \n",
    "    for col in dup_cols:\n",
    "        df_sel = df[df[target].str.contains(col)]\n",
    "        index_list = df_sel.index.to_list()[1:]\n",
    "        df = df.drop(index=index_list)\n",
    "    \n",
    "    print(\"df_org: \")\n",
    "    print(len(df_org))\n",
    "    print(\"df_duplicatedropped: \")\n",
    "    print(len(df))\n",
    "    \n",
    "    return df"
   ]
  },
  {
   "cell_type": "code",
   "execution_count": null,
   "metadata": {},
   "outputs": [],
   "source": [
    "def plot_gaussians():\n",
    "    global ttest_feature_count, ttest_df,ttest_df_length\n",
    "    n_feature = ttest_df_length if ttest_df_length <= ttest_feature_count else ttest_feature_count\n",
    "    my_pal=['dodgerblue','darkorange']\n",
    "    \n",
    "    for i in range(n_feature):\n",
    "        \n",
    "        different_dist_item1 = ttest_df.iloc[i]['Feature']\n",
    "        plt.figure(figsize=(16, 16))\n",
    "        ax = sns.distplot(selected_class1[different_dist_item1])\n",
    "        ax = sns.distplot(selected_class2[different_dist_item1])\n",
    "        ax.set_xlabel(ttest_df.iloc[i]['Feature'],fontsize=30)\n",
    "        sns.set(font_scale = 2)\n",
    "        #plt.title('Gaussian ' +different_dist_item1)\n",
    "        plt.legend(labels=[selected_class1_label+\"  Mean: \"+str(round(selected_class1[different_dist_item1].mean(),2)),\n",
    "                           selected_class2_label+\"  Mean: \"+str(round(selected_class2[different_dist_item1].mean(),2)),\n",
    "                           merge_gauss_plot_label+\"  Mean: \"+str(round(merge_gauss_plot[different_dist_item1].mean(),2))],\n",
    "                                                          fontsize='large',loc = 'upper left')\n",
    "        plt.savefig(r'path+' + selected_class1_label + '&' + selected_class2_label + str(i) + '.png',bbox_inches='tight')\n",
    "        png_list.append('Gaussian+' + selected_class1_label + '&' + selected_class2_label + str(i) + '.png')\n",
    "        plt.show()"
   ]
  },
  {
   "cell_type": "code",
   "execution_count": null,
   "metadata": {},
   "outputs": [],
   "source": [
    "def plot_single_scatters():\n",
    "    global ttest_df, ttest_feature_count, selected_class1, selected_class2, ttest_df_length\n",
    "    n_feature = ttest_df_length if ttest_df_length <= ttest_feature_count else ttest_feature_count\n",
    "    my_pal=['dodgerblue','darkorange']\n",
    "    ttest_df = ttest_df.reset_index(drop=True)\n",
    "    for i in range(n_feature):\n",
    "        \"\"\"\n",
    "        Difference Rate:\n",
    "        \"\"\"\n",
    "        different_dist_item1 = ttest_df.iloc[i]['Feature']\n",
    "       \n",
    "    \n",
    "        feature1 = different_dist_item1[:different_dist_item1.index(\"^1x\")+2]\n",
    "        feature2 = different_dist_item1[different_dist_item1.index(\"^1x\")+3:]\n",
    "\n",
    "        frames = [selected_class1, selected_class2]\n",
    "\n",
    "        selected_class_merged = pd.concat(frames)\n",
    "        selected_class_merged = selected_class_merged.reset_index(drop=True)\n",
    "        selected_class_merged['PartNo'] = selected_class_merged.index\n",
    "        \n",
    "        selected_class_merged.loc[selected_class_merged[target_status] == 1, target_status] = 'IO'\n",
    "        selected_class_merged.loc[selected_class_merged[target_status] == 2, target_status] = 'IO_LOWER'\n",
    "        selected_class_merged.loc[selected_class_merged[target_status] == 3, target_status] = 'IO_UPPER'\n",
    "        selected_class_merged.loc[selected_class_merged[target_status] == 4, target_status] = 'NIO_LOWER'\n",
    "        selected_class_merged.loc[selected_class_merged[target_status] == 5, target_status] = 'NIO_UPPER'\n",
    "        \n",
    "        \n",
    "        \n",
    "        \n",
    "        plt.figure(figsize=(16, 16))\n",
    "        ax = sns.scatterplot(x=selected_class_merged['PartNo'], \n",
    "                        y=selected_class_merged[feature1],\n",
    "                 palette = my_pal,\n",
    "                 hue = target_status,\n",
    "                 data=selected_class_merged)\n",
    "        sns.set(font_scale = 2)\n",
    "        ax.set_xlabel(\"Part No\",fontsize=30)\n",
    "        plt.title('Scatter : ' + feature1)\n",
    "        ax.legend(loc=2)\n",
    "        plt.savefig(r'path+'+ selected_class1_label + '&' + selected_class2_label + str(i) +'.png',bbox_inches='tight')\n",
    "        png_list.append('SingleScatter2+'+ selected_class1_label + '&' + selected_class2_label + str(i) +'.png')\n",
    "\n",
    "        plt.show()\n",
    "        \n",
    "        plt.figure(figsize=(16, 16))\n",
    "        ax = sns.scatterplot(x=selected_class_merged['PartNo'], \n",
    "                        y=selected_class_merged[feature2],\n",
    "                 palette = my_pal,\n",
    "                 hue = target_status,\n",
    "                 data=selected_class_merged)\n",
    "        sns.set(font_scale = 2)\n",
    "     \n",
    "        ax.set_xlabel(\"Part No\",fontsize=30)\n",
    "        plt.title('Scatter : ' + feature2)\n",
    "        ax.legend(loc=2)\n",
    "        plt.savefig(r'path+'+ selected_class1_label + '&' + selected_class2_label + str(i) +'.png',bbox_inches='tight')\n",
    "        png_list.append('SingleScatter1+'+ selected_class1_label + '&' + selected_class2_label + str(i) +'.png')\n",
    "\n",
    "        plt.show()\n",
    "        "
   ]
  },
  {
   "cell_type": "code",
   "execution_count": null,
   "metadata": {},
   "outputs": [],
   "source": [
    "def plot_scatters():\n",
    "    global ttest_df, ttest_feature_count, selected_class1, selected_class2, ttest_df_length\n",
    "    n_feature = ttest_df_length if ttest_df_length <= ttest_feature_count else ttest_feature_count\n",
    "    my_pal=['dodgerblue','darkorange']\n",
    "    for i in range(n_feature):\n",
    "        \"\"\"\n",
    "        Difference Rate:\n",
    "        \"\"\"\n",
    "        different_dist_item1 = ttest_df.iloc[i]['Feature']\n",
    "\n",
    "        selected_class1_min = selected_class1[different_dist_item1].min()\n",
    "        selected_class1_max = selected_class1[different_dist_item1].max()\n",
    "        selected_class2_min = selected_class2[different_dist_item1].min()\n",
    "        selected_class2_max = selected_class2[different_dist_item1].max()\n",
    "        selected_class1_mean = selected_class1[different_dist_item1].mean()\n",
    "        selected_class2_mean = selected_class2[different_dist_item1].mean()\n",
    "\n",
    "        mean_difference = ((selected_class1_mean-selected_class2_mean)/selected_class2_mean)*100 if selected_class1_mean >= selected_class2_mean else ((selected_class2_mean-selected_class1_mean)/selected_class1_mean)*100\n",
    "        \n",
    "        \n",
    "        similarity_count = selected_class2[different_dist_item1].loc[(selected_class2[different_dist_item1]<=selected_class1_max) & (selected_class2[different_dist_item1]>=selected_class1_min) ].count()\n",
    "        difference_rate = 100 - similarity_count/len(selected_class2)*100 \n",
    "        print(\"Difference Rate %\")\n",
    "        print(difference_rate)\n",
    "        print(\"Max Class1\")\n",
    "        print(selected_class1_max) \n",
    "        print(\"Min Class1\")\n",
    "        print(selected_class1_min) \n",
    "        print(\"Max Class2\")\n",
    "        print(selected_class2_max) \n",
    "        print(\"Min Class2\")\n",
    "        print(selected_class2_min)\n",
    "        print(\"Mean Class1\")\n",
    "        print(selected_class1_mean)\n",
    "        print(\"Mean Class2\")\n",
    "        print(selected_class2_mean)\n",
    "        print(\"Mean Difference %\")\n",
    "        print((mean_difference))\n",
    "        print(\"Similarity Rate:%\")\n",
    "        print((similarity_count/len(selected_class2))*100 )\n",
    "        \n",
    "        different_dist_item1 = ttest_df.iloc[i]['Feature']\n",
    "        \n",
    "        frames = [selected_class1, selected_class2]\n",
    "\n",
    "        selected_class_merged = pd.concat(frames)\n",
    "        selected_class_merged = selected_class_merged.reset_index(drop=True)\n",
    "        selected_class_merged['PartNo'] = selected_class_merged.index\n",
    "        \n",
    "        selected_class_merged.loc[selected_class_merged[target_status] == 1, target_status] = 'IO'\n",
    "        selected_class_merged.loc[selected_class_merged[target_status] == 2, target_status] = 'IO_LOWER'\n",
    "        selected_class_merged.loc[selected_class_merged[target_status] == 3, target_status] = 'IO_UPPER'\n",
    "        selected_class_merged.loc[selected_class_merged[target_status] == 4, target_status] = 'NIO_LOWER'\n",
    "        selected_class_merged.loc[selected_class_merged[target_status] == 5, target_status] = 'NIO_UPPER'\n",
    "\n",
    "        \n",
    "        plt.figure(figsize=(16, 16))\n",
    "        ax = sns.scatterplot(x=selected_class_merged['PartNo'], \n",
    "                        y=selected_class_merged[different_dist_item1],\n",
    "                 palette = my_pal,\n",
    "                 hue = target_status,\n",
    "\n",
    "                 data=selected_class_merged)\n",
    "        sns.set(font_scale = 2)\n",
    "        ax.legend(labels=[selected_class1_label+\"  Mean: \"+str(round(selected_class1[different_dist_item1].mean(),2)),\n",
    "                           selected_class2_label+\"  Mean: \"+str(round(selected_class2[different_dist_item1].mean(),2))],\n",
    "                                                          fontsize='medium',loc = 'upper left')\n",
    "        ax.set_xlabel(\"Part No\",fontsize=30)\n",
    "        plt.title('Scatter : ' + different_dist_item1)\n",
    "        \n",
    "\n",
    "        #merge_gauss_plot_label+\"  Mean: \"+str(round(merge_gauss_plot[different_dist_item1].mean(),2))\n",
    "        \n",
    "        plt.savefig(r'C:\\Users\\tay5bu\\Desktop\\Python_20\\EWRCA\\PDF_Report\\Scatter+'+ selected_class1_label + '&' + selected_class2_label + str(i) +'.png',bbox_inches='tight')\n",
    "        png_list.append('Scatter+'+ selected_class1_label + '&' + selected_class2_label + str(i) +'.png')\n",
    "        \n",
    "        plt.show()"
   ]
  },
  {
   "cell_type": "code",
   "execution_count": null,
   "metadata": {},
   "outputs": [],
   "source": [
    "list_important_features = ['**^1','**^1','**^1',\n",
    "                                '**^1',\n",
    "                                '**^1',\n",
    "                                '**^1',\n",
    "                                '**^1',\n",
    "                                '**^1',\n",
    "                                '**^1']   \n",
    "def plot_important_features():\n",
    "     \n",
    "    global selected_class1, selected_class2,list_important_features,ttest_df,ttest_df_length\n",
    "    my_pal=['dodgerblue','darkorange']\n",
    "    print(ttest_df)\n",
    "    limit_important_features = 4 \n",
    "    for i in range(limit_important_features):\n",
    "        plt.figure(figsize=(16, 16))\n",
    "        sns.set(font_scale = 2)\n",
    "        ax = sns.distplot(selected_class1[list_important_features[i]])\n",
    "        ax = sns.distplot(selected_class2[list_important_features[i]])\n",
    "        plt.title('Feature Importance : ' +list_important_features[i] )\n",
    "        plt.legend(labels=[selected_class1_label+\"  Mean: \"+str(round(selected_class1[list_important_features[i]].mean(),2)),\n",
    "                       selected_class2_label+\"  Mean: \"+str(round(selected_class2[list_important_features[i]].mean(),2))],\n",
    "                                                      fontsize='large',loc = 'upper left')\n",
    "        print(\"Plot Important Features\")\n",
    "        plt.savefig(r'path+'+ selected_class1_label + '&' + selected_class2_label + str(i) +'.png',bbox_inches='tight')\n",
    "        png_list.append('Important_Gaussian+'+ selected_class1_label + '&' + selected_class2_label + str(i) +'.png')\n",
    "        plt.show()"
   ]
  },
  {
   "cell_type": "code",
   "execution_count": null,
   "metadata": {},
   "outputs": [],
   "source": [
    "'''how many features to plot'''\n",
    "ttest_feature_count = 4\n",
    "png_list = []\n",
    "\n",
    "for i in range(6):\n",
    "    index = 0\n",
    "    selected_class1, selected_class2, selected_class1_label, selected_class2_label = set_selected_class_and_label(i)\n",
    "    \n",
    "    if len(selected_class1) < 25 or len(selected_class2) < 25 :\n",
    "        print(\"Not enough value in Dataset...\")\n",
    "        continue\n",
    "\n",
    "    ttest_df, df_last = reset_ttest_df_last()    \n",
    "    ttest_df = calculate_ttest()\n",
    "    ttest_df = drop_duplicate_cols(ttest_df)\n",
    "    ttest_df_length = len(ttest_df)\n",
    "\n",
    "    if ttest_df_length < 1:\n",
    "        print(\"Empty T-Test\")\n",
    "        continue\n",
    "    \n",
    "    '''plot all İmportant features'''\n",
    "    plot_important_features()\n",
    "         \n",
    "    '''plot all gauassians'''\n",
    "    plot_gaussians()\n",
    "    \n",
    "    '''plot all scatters'''\n",
    "    plot_scatters() \n",
    "    \n",
    "    '''plot all single scatters'''   \n",
    "    plot_single_scatters()"
   ]
  },
  {
   "cell_type": "code",
   "execution_count": null,
   "metadata": {},
   "outputs": [],
   "source": [
    "\n",
    "\n",
    "from datetime import datetime\n",
    "from fpdf import FPDF\n",
    "import os\n",
    "\n",
    "cwd = os.path.dirname(os.getcwd())  # os.getcwd() #str(Path(os.path.dirname(os.getcwd())).parent)\n",
    "print(cwd)\n",
    "graph_dir = cwd + '\\\\EWRCA\\\\PDF_Report\\\\'\n",
    "logo_dir = cwd + '\\\\EWRCA\\\\PDF_Report\\\\logo\\\\'\n",
    "output_dir = cwd + '\\\\EWRCA\\\\PDF_Report\\\\output\\\\'\n",
    "pdf_report_dir = 'C:\\\\Users\\\\tay5bu\\\\Desktop\\\\Python_20\\\\EWRCA\\\\PDF_Report'\n",
    "\n",
    "\n",
    "class PDF(FPDF):\n",
    "    def header(self):\n",
    "        self.ln(10) # insert a line break of 20 pixels\n",
    "        self.image(logo_dir + 'BoschLogo.png', x=10, y=10, h=9, w=36, link=pdf_report_dir) # insert my logo\n",
    "        #self.cell(w=80) # position logo on the right\n",
    "        self.image(logo_dir + 'ust_cerceve.png', x=10, y=35, w=190, h=3, link=pdf_report_dir)\n",
    "        #self.cell(40,10, 'BOSCH XXXXX!', border=1, ln=0, align='C') # page title\n",
    "        self.ln(10) # insert a line break of 20 pixels\n",
    "\n",
    "    # Page footer\n",
    "    def footer(self):\n",
    "        self.set_y(-15) # position footer at 10mm from the bottom\n",
    "        self.set_font('Arial', style='I', size=10) # set the font,B=bold, I=italic\n",
    "        pageNum = '%s/{nb}' % self.page_no() # display the page number and center it\n",
    "        self.cell(0, 5, pageNum, align='C')\n",
    "        self.image(logo_dir + 'dact_legend.png', x=40, w=130, h=10, link=pdf_report_dir)\n",
    "\n",
    "\n",
    "def add_image(pdf, image_path, x, y):\n",
    "    pdf.image(image_path, x=x, y=y, h=100 ,w=100)\n",
    "    pdf.set_font('Arial', style='I', size=10)\n",
    "    #pdf.ln(10) # move 50 down\n",
    "    #pdf.cell(w=10, h=2, txt='{}'.format(image_path), ln=1)\n",
    "#----------------------------------------------------------------------\n",
    "def create_pdf(path, png_list):\n",
    "    pdf = PDF(orientation='P', format='A4') #initialize pdf\n",
    "    pdf.alias_nb_pages() # Create the special value {nb}\n",
    "    pdf.add_page()\n",
    "    pdf.set_font(\"Arial\", size=12)\n",
    "    \n",
    "    txt_class = png_list[0]\n",
    "    txt_class = txt_class[txt_class.index(\"+\")+1:]\n",
    "    txt_class = txt_class[:txt_class.index(\".\")-1]\n",
    "    \n",
    "    pdf.cell(200, 5, txt=txt_class, ln=1, align=\"C\")\n",
    "    pdf.set_font('Arial', style='B', size=10)\n",
    "    #pdf.set_xy(0, 0)\n",
    "\n",
    "    #header(pdf)\n",
    "    #footer(pdf)\n",
    "\n",
    "    counter=0\n",
    "    for i in png_list:\n",
    "        \n",
    "        if(counter%2 == 0): #0-2-4-6..\n",
    "            add_image(pdf, graph_dir + i, 10, (counter%4)*50 + 50)\n",
    "        elif(counter%2 != 0): #1-3-5-7..\n",
    "            add_image(pdf, graph_dir + i, 100, ((counter%4)-1)*50 + 50)\n",
    "        counter=counter+1\n",
    "        if(counter >= 4 and counter%4 == 0 and counter<len(png_list)-3): #>= added (> was before)\n",
    "            txt_class = png_list[counter]\n",
    "            txt_class = txt_class[txt_class.index(\"+\")+1:]\n",
    "            txt_class = txt_class[:txt_class.index(\".\")-1]\n",
    "            \n",
    "            pdf.add_page()\n",
    "            pdf.set_font(\"Arial\", size=12)\n",
    "            pdf.cell(200, 5, txt=txt_class, ln=1, align=\"C\")\n",
    "            pdf.set_font('Arial', style='B', size=10)\n",
    "\n",
    "    pdf.output(path, 'F')\n",
    "\n",
    "#----------------------------------------------------------------------\n",
    "def main(png_list):\n",
    "    now = datetime.now().strftime('%m%d%Y_%H%M%S')\n",
    "    path = output_dir + 'EwRCA_' + now + '.pdf'\n",
    "    create_pdf(path, png_list)\n",
    "    print(path)\n",
    "\n",
    "# main\n",
    "if __name__ == '__main__':\n",
    "\n",
    "    main(png_list)\n",
    "\n",
    "\n",
    "\n"
   ]
  }
 ],
 "metadata": {
  "kernelspec": {
   "display_name": "Python 3.6.7 64-bit ('VsCode_Tryout': conda)",
   "language": "python",
   "name": "python36764bitvscodetryoutcondaf3b11245aca343798d3a0f4ed9273d12"
  },
  "language_info": {
   "codemirror_mode": {
    "name": "ipython",
    "version": 3
   },
   "file_extension": ".py",
   "mimetype": "text/x-python",
   "name": "python",
   "nbconvert_exporter": "python",
   "pygments_lexer": "ipython3",
   "version": "3.6.7"
  },
  "toc": {
   "base_numbering": 1,
   "nav_menu": {},
   "number_sections": true,
   "sideBar": true,
   "skip_h1_title": false,
   "title_cell": "Table of Contents",
   "title_sidebar": "Contents",
   "toc_cell": false,
   "toc_position": {},
   "toc_section_display": true,
   "toc_window_display": false
  },
  "varInspector": {
   "cols": {
    "lenName": 16,
    "lenType": 16,
    "lenVar": 40
   },
   "kernels_config": {
    "python": {
     "delete_cmd_postfix": "",
     "delete_cmd_prefix": "del ",
     "library": "var_list.py",
     "varRefreshCmd": "print(var_dic_list())"
    },
    "r": {
     "delete_cmd_postfix": ") ",
     "delete_cmd_prefix": "rm(",
     "library": "var_list.r",
     "varRefreshCmd": "cat(var_dic_list()) "
    }
   },
   "position": {
    "height": "491.8px",
    "left": "784.4px",
    "right": "20px",
    "top": "133px",
    "width": "617.4px"
   },
   "types_to_exclude": [
    "module",
    "function",
    "builtin_function_or_method",
    "instance",
    "_Feature"
   ],
   "window_display": true
  }
 },
 "nbformat": 4,
 "nbformat_minor": 4
}