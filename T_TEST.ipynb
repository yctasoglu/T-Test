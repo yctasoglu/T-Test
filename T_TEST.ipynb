{
 "cells": [
  {
   "cell_type": "code",
   "execution_count": null,
   "metadata": {},
   "outputs": [],
   "source": [
    "import pandas as pd\n",
    "import seaborn as sns\n",
    "import numpy as np\n",
    "import pickle\n",
    "from scipy.stats import ttest_rel\n",
    "from scipy.stats import ttest_ind\n",
    "from sklearn.preprocessing import PolynomialFeatures\n",
    "import glob\n",
    "from datetime import datetime\n",
    "import time\n",
    "import os\n",
    "cwd = os.path.dirname(os.getcwd()) \n",
    "print(cwd)\n",
    "pd.set_option('display.max_columns', 2000)\n",
    "pd.set_option('display.max_rows', 100)"
   ]
  },
  {
   "cell_type": "code",
   "execution_count": null,
   "metadata": {},
   "outputs": [],
   "source": [
    "#import data from local parquet file.\n",
    "df = pd.read_parquet(r'path')\n",
    "\n",
    "#Select 2 feature or population to compare\n",
    "selected_feature1 = df[\"Feature1\"]\n",
    "selected_feature2 = df[\"Feature2\"]"
   ]
  },
  {
   "cell_type": "code",
   "execution_count": null,
   "metadata": {},
   "outputs": [],
   "source": [
    "def calculate_ttest():\n",
    "    global selected_feature1, selected_feature2, ttest_df, index\n",
    "    \n",
    "    val1 = selected_feature1.iloc[:,[column_index]]\n",
    "    val2 = selected_feature2.iloc[:,[column_index]]\n",
    "    stat, p = ttest_ind(val1, val2)\n",
    "    \n",
    "    #Limit for similarity\n",
    "    alpha = 0.05\n",
    "\n",
    "    if p > alpha and p!=0:\n",
    "        print(\"T-Test Succesful. Populations are similar\")\n",
    "    if (0 < p < alpha  ):\n",
    "        print(\"T-Test Failed. Populations are different...\")\n",
    "        index = index+1\n",
    "        ttest_df.at[column_index, 'P_Value'] = p\n",
    "        ttest_df.at[column_index, 'Feature'] = selected_class1.columns[column_index]\n",
    "            \n",
    "    print(ttest_df)\n",
    "    return ttest_df"
   ]
  },
  {
   "cell_type": "code",
   "execution_count": 1,
   "metadata": {},
   "outputs": [
    {
     "output_type": "stream",
     "name": "stdout",
     "text": "Statistics=2.1851, p=0.0494\nDifferent distributions (reject H0)\n"
    }
   ],
   "source": [
    "#Another Comparison for T-Test\n",
    "from numpy.random import seed\n",
    "from numpy.random import randn\n",
    "from scipy.stats import ttest_ind\n",
    "# seed the random number generator\n",
    "seed(1)\n",
    "# generate two independent samples\n",
    "data1 = [95,100,105,110,115,120] #grup4\n",
    "\n",
    "data2 = [95,96,97,98,99,100,105,106] #grup2.1\n",
    "# compare samples\n",
    "stat, p = ttest_ind(data1, data2)\n",
    "print('Statistics=%.4f, p=%.4f' % (stat, p))\n",
    "# interpret\n",
    "alpha = 0.050\n",
    "if p >= alpha:\n",
    "\tprint('Same distributions (fail to reject H0)')\n",
    "else:\n",
    "\tprint('Different distributions (reject H0)')\n",
    "    \n",
    "#The interpretation of the statistic finds that the sample means are different, with a significance of at least 5%."
   ]
  },
  {
   "cell_type": "code",
   "execution_count": null,
   "metadata": {},
   "outputs": [],
   "source": []
  }
 ],
 "metadata": {
  "kernelspec": {
   "display_name": "Python 3.6.7 64-bit ('VsCode_Tryout': conda)",
   "language": "python",
   "name": "python36764bitvscodetryoutcondaf3b11245aca343798d3a0f4ed9273d12"
  },
  "language_info": {
   "codemirror_mode": {
    "name": "ipython",
    "version": 3
   },
   "file_extension": ".py",
   "mimetype": "text/x-python",
   "name": "python",
   "nbconvert_exporter": "python",
   "pygments_lexer": "ipython3",
   "version": "3.6.7-final"
  },
  "toc": {
   "base_numbering": 1,
   "nav_menu": {},
   "number_sections": true,
   "sideBar": true,
   "skip_h1_title": false,
   "title_cell": "Table of Contents",
   "title_sidebar": "Contents",
   "toc_cell": false,
   "toc_position": {},
   "toc_section_display": true,
   "toc_window_display": false
  },
  "varInspector": {
   "cols": {
    "lenName": 16,
    "lenType": 16,
    "lenVar": 40
   },
   "kernels_config": {
    "python": {
     "delete_cmd_postfix": "",
     "delete_cmd_prefix": "del ",
     "library": "var_list.py",
     "varRefreshCmd": "print(var_dic_list())"
    },
    "r": {
     "delete_cmd_postfix": ") ",
     "delete_cmd_prefix": "rm(",
     "library": "var_list.r",
     "varRefreshCmd": "cat(var_dic_list()) "
    }
   },
   "position": {
    "height": "491.8px",
    "left": "784.4px",
    "right": "20px",
    "top": "133px",
    "width": "617.4px"
   },
   "types_to_exclude": [
    "module",
    "function",
    "builtin_function_or_method",
    "instance",
    "_Feature"
   ],
   "window_display": true
  }
 },
 "nbformat": 4,
 "nbformat_minor": 4
}